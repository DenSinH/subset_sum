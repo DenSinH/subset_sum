{
 "cells": [
  {
   "cell_type": "code",
   "execution_count": 15,
   "metadata": {},
   "outputs": [
    {
     "name": "stdout",
     "output_type": "stream",
     "text": [
      "Collecting dpss==0.10.2\n",
      "  Using cached dpss-0.10.2-cp310-none-win_amd64.whl\n",
      "Installing collected packages: dpss\n",
      "  Attempting uninstall: dpss\n",
      "    Found existing installation: dpss 0.11.1\n",
      "    Uninstalling dpss-0.11.1:\n",
      "      Successfully uninstalled dpss-0.11.1\n",
      "Successfully installed dpss-0.10.2\n"
     ]
    },
    {
     "name": "stderr",
     "output_type": "stream",
     "text": [
      "WARNING: You are using pip version 21.2.4; however, version 22.0.3 is available.\n",
      "You should consider upgrading via the 'C:\\Users\\tomohiro\\AppData\\Local\\Microsoft\\WindowsApps\\PythonSoftwareFoundation.Python.3.10_qbz5n2kfra8p0\\python.exe -m pip install --upgrade pip' command.\n"
     ]
    },
    {
     "name": "stdout",
     "output_type": "stream",
     "text": [
      "2.73 ms ± 171 µs per loop (mean ± std. dev. of 10 runs, 1,000 loops each)\n"
     ]
    }
   ],
   "source": [
    "!pip install dpss==0.10.2\n",
    "import dpss\n",
    "%timeit -n 1000 -r 10 dpss.sequence_matcher_m2m([1980, 2980, 3500, 4000, 1050, 2000], [1950, 2900, 30, 80, 3300, 200, 3980, 1050, 20, 2000])"
   ]
  },
  {
   "cell_type": "code",
   "execution_count": 16,
   "metadata": {},
   "outputs": [
    {
     "name": "stderr",
     "output_type": "stream",
     "text": [
      "WARNING: You are using pip version 21.2.4; however, version 22.0.3 is available.\n",
      "You should consider upgrading via the 'C:\\Users\\tomohiro\\AppData\\Local\\Microsoft\\WindowsApps\\PythonSoftwareFoundation.Python.3.10_qbz5n2kfra8p0\\python.exe -m pip install --upgrade pip' command.\n"
     ]
    },
    {
     "name": "stdout",
     "output_type": "stream",
     "text": [
      "Collecting dpss==0.10.5\n",
      "  Using cached dpss-0.10.5-cp310-none-win_amd64.whl (127 kB)\n",
      "Installing collected packages: dpss\n",
      "  Attempting uninstall: dpss\n",
      "    Found existing installation: dpss 0.10.2\n",
      "    Uninstalling dpss-0.10.2:\n",
      "      Successfully uninstalled dpss-0.10.2\n",
      "Successfully installed dpss-0.10.5\n",
      "2.84 ms ± 260 µs per loop (mean ± std. dev. of 10 runs, 1,000 loops each)\n"
     ]
    }
   ],
   "source": [
    "!pip install dpss==0.10.5\n",
    "import dpss\n",
    "%timeit -n 1000 -r 10 dpss.sequence_matcher_m2m([1980, 2980, 3500, 4000, 1050, 2000], [1950, 2900, 30, 80, 3300, 200, 3980, 1050, 20, 2000])"
   ]
  },
  {
   "cell_type": "code",
   "execution_count": 17,
   "metadata": {},
   "outputs": [
    {
     "name": "stdout",
     "output_type": "stream",
     "text": [
      "Collecting dpss==0.11.0\n",
      "  Using cached dpss-0.11.0-cp310-none-win_amd64.whl (128 kB)\n",
      "Installing collected packages: dpss\n",
      "  Attempting uninstall: dpss\n",
      "    Found existing installation: dpss 0.10.5\n",
      "    Uninstalling dpss-0.10.5:\n",
      "      Successfully uninstalled dpss-0.10.5\n",
      "Successfully installed dpss-0.11.0\n"
     ]
    },
    {
     "name": "stderr",
     "output_type": "stream",
     "text": [
      "WARNING: You are using pip version 21.2.4; however, version 22.0.3 is available.\n",
      "You should consider upgrading via the 'C:\\Users\\tomohiro\\AppData\\Local\\Microsoft\\WindowsApps\\PythonSoftwareFoundation.Python.3.10_qbz5n2kfra8p0\\python.exe -m pip install --upgrade pip' command.\n"
     ]
    },
    {
     "name": "stdout",
     "output_type": "stream",
     "text": [
      "2.87 ms ± 172 µs per loop (mean ± std. dev. of 10 runs, 1,000 loops each)\n"
     ]
    }
   ],
   "source": [
    "!pip install dpss==0.11.0\n",
    "import dpss\n",
    "%timeit -n 1000 -r 10 dpss.sequence_matcher_m2m([1980, 2980, 3500, 4000, 1050, 2000], [1950, 2900, 30, 80, 3300, 200, 3980, 1050, 20, 2000])"
   ]
  },
  {
   "cell_type": "code",
   "execution_count": 18,
   "metadata": {},
   "outputs": [
    {
     "name": "stdout",
     "output_type": "stream",
     "text": [
      "Found existing installation: dpss 0.11.0\n",
      "Uninstalling dpss-0.11.0:\n",
      "  Successfully uninstalled dpss-0.11.0\n",
      "Looking in links: ../target/wheels\n",
      "Processing c:\\users\\tomohiro\\desktop\\rust\\subset_sum\\target\\wheels\\dpss-0.11.1-cp310-none-win_amd64.whl\n",
      "Installing collected packages: dpss\n",
      "Successfully installed dpss-0.11.1\n",
      "2.91 ms ± 278 µs per loop (mean ± std. dev. of 10 runs, 1,000 loops each)\n"
     ]
    }
   ],
   "source": [
    "!pip uninstall -y dpss\n",
    "!pip install --no-index --find-links ../target/wheels dpss\n",
    "import dpss\n",
    "%timeit -n 1000 -r 10 dpss.sequence_matcher_m2m([1980, 2980, 3500, 4000, 1050, 2000], [1950, 2900, 30, 80, 3300, 200, 3980, 1050, 20, 2000])"
   ]
  }
 ],
 "metadata": {
  "interpreter": {
   "hash": "87233e2b4968e527509109d870f09729c2e86bc35e4c43b1869c1a8ef6433d05"
  },
  "kernelspec": {
   "display_name": "Python 3.9.5 ('env': venv)",
   "language": "python",
   "name": "python3"
  },
  "language_info": {
   "codemirror_mode": {
    "name": "ipython",
    "version": 3
   },
   "file_extension": ".py",
   "mimetype": "text/x-python",
   "name": "python",
   "nbconvert_exporter": "python",
   "pygments_lexer": "ipython3",
   "version": "3.9.5"
  },
  "orig_nbformat": 4
 },
 "nbformat": 4,
 "nbformat_minor": 2
}
